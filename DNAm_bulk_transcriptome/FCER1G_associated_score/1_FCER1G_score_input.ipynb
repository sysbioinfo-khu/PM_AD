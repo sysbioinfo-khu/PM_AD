{
 "cells": [
  {
   "cell_type": "code",
   "execution_count": 27,
   "id": "8c3c1d78-126c-47cd-b831-52968ccbbc30",
   "metadata": {
    "tags": []
   },
   "outputs": [],
   "source": [
    "import pandas as pd\n",
    "from scipy.stats import ranksums, pearsonr"
   ]
  },
  {
   "cell_type": "code",
   "execution_count": 28,
   "id": "a82cab2a-88c7-49cc-a838-cb4690a10606",
   "metadata": {
    "tags": []
   },
   "outputs": [],
   "source": [
    "# Load the data\n",
    "Pla_gene = pd.read_csv(\"/home/yang/PM_AD/8_IL1RL1_FCER1G/Placenta_gene_exp.txt\", index_col=0)\n",
    "Clinical = pd.read_excel(\"/home/yang/PM_AD/1_Raw_data/placenta_CB_transcriptome_methylation_Clinical_231201.xlsx\", sheet_name=\"임상정보_\")"
   ]
  },
  {
   "cell_type": "code",
   "execution_count": 29,
   "id": "6debdf5c-3790-4f7e-b83a-7a952dfff872",
   "metadata": {
    "tags": []
   },
   "outputs": [],
   "source": [
    "# Perform Wilcoxon rank-sum test between two groups \n",
    "def wilcox_ranksum_test(tmp1, Case, Control):\n",
    "    df = tmp1.copy()\n",
    "\n",
    "    # Subset data for Case  and Control\n",
    "    group_G4 = df[df.index == Case]\n",
    "    group_G3 = df[df.index == Control]\n",
    "\n",
    "    p_values = []\n",
    "    t_values = []\n",
    "\n",
    "    # Perform Wilcoxon rank-sum test \n",
    "    for column in group_G4.columns:\n",
    "        if column != 'placenta_metylation_transcriptome':  # Exclude specific column\n",
    "            statistic, p_value = ranksums(group_G4[column], group_G3[column])\n",
    "            p_values.append(p_value)\n",
    "            t_values.append(statistic)\n",
    "\n",
    "    # Create a DataFrame with p-values and t-values \n",
    "    result_df = pd.DataFrame({\"P\": p_values, \"T\": t_values}, index=df.columns)\n",
    "    \n",
    "    return result_df\n",
    "\n",
    "# Perform Wilcoxon rank-sum test for the gene expression data (G4 PM-high_AD vs G3 PM-high healthy)\n",
    "Pla_gene_res = wilcox_ranksum_test(Pla_gene.set_index(\"Group\"), \"G4\", \"G3\")"
   ]
  },
  {
   "cell_type": "code",
   "execution_count": 30,
   "id": "27b75033-3921-4ce5-b9ca-49a3089b74c3",
   "metadata": {
    "tags": []
   },
   "outputs": [],
   "source": [
    "# Pearson correlation function \n",
    "def Correlation_pearson(data, length):\n",
    "    result_df_r = pd.DataFrame(index=data.iloc[:, length:].columns, columns=data.iloc[:, :length].columns)\n",
    "    result_df_p = pd.DataFrame(index=data.iloc[:, length:].columns, columns=data.iloc[:, :length].columns)\n",
    "\n",
    "    # Calculate Pearson correlation and p-values for each pair of columns\n",
    "    for column1 in data.iloc[:, :length].columns:\n",
    "        for column2 in data.iloc[:, length:].columns:\n",
    "            x = data[column1]\n",
    "            y = data[column2]\n",
    "            valid_indices = ~x.isnull() & ~y.isnull()  # Filter out NaN values\n",
    "            x_valid = x[valid_indices]\n",
    "            y_valid = y[valid_indices]\n",
    "            r, p_value = pearsonr(x_valid, y_valid)  # Compute Pearson correlation and p-value\n",
    "            result_df_r.loc[column2, column1] = r\n",
    "            result_df_p.loc[column2, column1] = p_value\n",
    "\n",
    "    return result_df_p, result_df_r\n",
    "\n",
    "\n",
    "# Filter the gene expression data to include FCER1G and all other columns\n",
    "columns = ['FCER1G'] + [col for col in Pla_gene.columns if col != 'FCER1G']\n",
    "df = Pla_gene.loc[:, columns]\n",
    "df = df.drop(columns='Group')\n",
    "\n",
    "# Calculate Pearson correlation for FCER1G gene\n",
    "FCER1G_p, FCER1G_r = Correlation_pearson(df, length=1)\n",
    "\n",
    "# Combine the p-values and correlation coefficients into one DataFrame\n",
    "FCER1G_gene_cor = pd.concat([FCER1G_p.rename(columns={\"FCER1G\": \"Pearson_P\"}), \n",
    "                              FCER1G_r.rename(columns={\"FCER1G\": \"Pearson_R\"})], axis=1)\n"
   ]
  },
  {
   "cell_type": "code",
   "execution_count": 31,
   "id": "e1f71db4-6c70-4cd0-9bc8-b079871238e6",
   "metadata": {
    "tags": []
   },
   "outputs": [],
   "source": [
    "# Retrieve gene sets from Gene Ontology (GO), Reactome, and KEGG databases\n",
    "GO_gene_set = pd.read_csv(\"/home/yang/PM_AD/Submission/Figure_3/Figure3A/GO_Gene_set.txt\", index_col=3)\n",
    "Reactome_gene_set = pd.read_csv(\"/home/yang/PM_AD/Submission/Figure_3/Figure3A/Reactome_DEG_Gene_set.txt\", index_col=3)\n",
    "KEGG_gene_set = pd.read_csv(\"/home/yang/PM_AD/Submission/Figure_3/Figure3A/KEGG_Gene_set.txt\", index_col=3)\n",
    "\n",
    "# Combine the gene sets\n",
    "Gene_set = pd.concat([GO_gene_set, Reactome_gene_set, KEGG_gene_set], axis=0)\n",
    "\n",
    "# Filter the gene set to include specific biological processes and pathways\n",
    "Gene_set = Gene_set.loc[['innate immune response',\n",
    "                         'adaptive immune response',\n",
    "                         'immune effector process',\n",
    "                         'positive regulation of immune system process',\n",
    "                         'inflammatory response',\n",
    "                         'myeloid leukocyte activation',\n",
    "                         'myeloid leukocyte migration',\n",
    "                         'leukocyte chemotaxis',\n",
    "                         'leukocyte mediated immunity',        \n",
    "                         'response to cytokine',\n",
    "                         'cytokine production',\n",
    "                         'cytokine-mediated signaling pathway',\n",
    "                         'response to reactive oxygen species',\n",
    "                         'NADPH oxidase complex',\n",
    "                         'superoxide-generating NAD(P)H oxidase activity',\n",
    "                         'transmembrane receptor protein kinase activity',\n",
    "                         'positive regulation of protein tyrosine kinase activity',\n",
    "                         'protein kinase C activity',\n",
    "                         'protein kinase C binding',\n",
    "                         'Homo sapiens: PI3K/AKT Signaling in Cancer',\n",
    "                         'MAPK signaling pathway'],]\n",
    "\n",
    "# Extract the list of genes from the Gene Set\n",
    "genes_list = Gene_set['gene'].str.split(',').explode().str.strip()\n",
    "unique_genes = genes_list.unique() # Remove duplicates\n",
    "final_gene_list = list(unique_genes)\n",
    "Pathway_gene_df = pd.DataFrame(index=final_gene_list)\n"
   ]
  },
  {
   "cell_type": "code",
   "execution_count": 32,
   "id": "5856d38f-5cfd-4569-ab27-15b1a0ce601f",
   "metadata": {
    "tags": []
   },
   "outputs": [
    {
     "data": {
      "text/html": [
       "<div>\n",
       "<style scoped>\n",
       "    .dataframe tbody tr th:only-of-type {\n",
       "        vertical-align: middle;\n",
       "    }\n",
       "\n",
       "    .dataframe tbody tr th {\n",
       "        vertical-align: top;\n",
       "    }\n",
       "\n",
       "    .dataframe thead th {\n",
       "        text-align: right;\n",
       "    }\n",
       "</style>\n",
       "<table border=\"1\" class=\"dataframe\">\n",
       "  <thead>\n",
       "    <tr style=\"text-align: right;\">\n",
       "      <th></th>\n",
       "      <th>P</th>\n",
       "      <th>T</th>\n",
       "      <th>Pearson_P</th>\n",
       "      <th>Pearson_R</th>\n",
       "    </tr>\n",
       "  </thead>\n",
       "  <tbody>\n",
       "    <tr>\n",
       "      <th>AKNA</th>\n",
       "      <td>0.133327</td>\n",
       "      <td>1.501111</td>\n",
       "      <td>0.102683</td>\n",
       "      <td>0.238431</td>\n",
       "    </tr>\n",
       "    <tr>\n",
       "      <th>NPR2</th>\n",
       "      <td>0.772830</td>\n",
       "      <td>0.288675</td>\n",
       "      <td>0.699957</td>\n",
       "      <td>0.057084</td>\n",
       "    </tr>\n",
       "    <tr>\n",
       "      <th>IGKV1-39</th>\n",
       "      <td>0.043308</td>\n",
       "      <td>2.020726</td>\n",
       "      <td>0.935203</td>\n",
       "      <td>0.012052</td>\n",
       "    </tr>\n",
       "    <tr>\n",
       "      <th>GBP3</th>\n",
       "      <td>0.839860</td>\n",
       "      <td>0.202073</td>\n",
       "      <td>0.154009</td>\n",
       "      <td>0.208984</td>\n",
       "    </tr>\n",
       "    <tr>\n",
       "      <th>NKAP</th>\n",
       "      <td>0.452920</td>\n",
       "      <td>0.750555</td>\n",
       "      <td>0.321749</td>\n",
       "      <td>0.146102</td>\n",
       "    </tr>\n",
       "    <tr>\n",
       "      <th>...</th>\n",
       "      <td>...</td>\n",
       "      <td>...</td>\n",
       "      <td>...</td>\n",
       "      <td>...</td>\n",
       "    </tr>\n",
       "    <tr>\n",
       "      <th>MIR105-1</th>\n",
       "      <td>0.032663</td>\n",
       "      <td>2.136196</td>\n",
       "      <td>0.619451</td>\n",
       "      <td>0.073523</td>\n",
       "    </tr>\n",
       "    <tr>\n",
       "      <th>IRAK1</th>\n",
       "      <td>0.525373</td>\n",
       "      <td>0.635085</td>\n",
       "      <td>0.534424</td>\n",
       "      <td>0.091905</td>\n",
       "    </tr>\n",
       "    <tr>\n",
       "      <th>FLNA</th>\n",
       "      <td>0.644167</td>\n",
       "      <td>0.461880</td>\n",
       "      <td>0.001513</td>\n",
       "      <td>0.445379</td>\n",
       "    </tr>\n",
       "    <tr>\n",
       "      <th>MPP1</th>\n",
       "      <td>0.644167</td>\n",
       "      <td>0.461880</td>\n",
       "      <td>0.003466</td>\n",
       "      <td>0.413734</td>\n",
       "    </tr>\n",
       "    <tr>\n",
       "      <th>CD24</th>\n",
       "      <td>0.355611</td>\n",
       "      <td>0.923760</td>\n",
       "      <td>0.004825</td>\n",
       "      <td>0.400205</td>\n",
       "    </tr>\n",
       "  </tbody>\n",
       "</table>\n",
       "<p>999 rows × 4 columns</p>\n",
       "</div>"
      ],
      "text/plain": [
       "                 P         T Pearson_P Pearson_R\n",
       "AKNA      0.133327  1.501111  0.102683  0.238431\n",
       "NPR2      0.772830  0.288675  0.699957  0.057084\n",
       "IGKV1-39  0.043308  2.020726  0.935203  0.012052\n",
       "GBP3      0.839860  0.202073  0.154009  0.208984\n",
       "NKAP      0.452920  0.750555  0.321749  0.146102\n",
       "...            ...       ...       ...       ...\n",
       "MIR105-1  0.032663  2.136196  0.619451  0.073523\n",
       "IRAK1     0.525373  0.635085  0.534424  0.091905\n",
       "FLNA      0.644167  0.461880  0.001513  0.445379\n",
       "MPP1      0.644167  0.461880  0.003466  0.413734\n",
       "CD24      0.355611  0.923760  0.004825  0.400205\n",
       "\n",
       "[999 rows x 4 columns]"
      ]
     },
     "execution_count": 32,
     "metadata": {},
     "output_type": "execute_result"
    }
   ],
   "source": [
    "# Merge FCER1G correlation results with the final gene list\n",
    "FCER1G_cor_downstream = pd.merge(Pathway_gene_df, FCER1G_gene_cor, left_index=True, right_index=True, how='inner')\n",
    "FCER1G_cor_downstream = pd.merge(Pla_gene_res, FCER1G_cor_downstream, left_index=True, right_index=True, how='inner')\n",
    "\n",
    "# Apply filters: Pearson correlation (FCER1G) > 0 and Wilcoxon test statistic > 0\n",
    "FCER1G_cor_downstream = FCER1G_cor_downstream[(FCER1G_cor_downstream['Pearson_R'] > 0) & (FCER1G_cor_downstream['T'] > 0)]\n",
    "FCER1G_cor_downstream\n"
   ]
  },
  {
   "cell_type": "code",
   "execution_count": 36,
   "id": "212baf81-4932-4cc2-82ca-ebafe1f336e1",
   "metadata": {
    "tags": []
   },
   "outputs": [],
   "source": [
    "# FCER1G_cor_downstream.to_csv(\"FCER1G_score_input.txt\")"
   ]
  },
  {
   "cell_type": "code",
   "execution_count": 37,
   "id": "61323230-651b-48f5-931b-31ac7e9069c0",
   "metadata": {
    "tags": []
   },
   "outputs": [],
   "source": [
    "# We then calculate the score using the GSVA function, as detailed in the 2_Calculate_FCER1G_score.R"
   ]
  },
  {
   "cell_type": "code",
   "execution_count": null,
   "id": "170b769a-509f-49b0-82f3-d578d17718a1",
   "metadata": {},
   "outputs": [],
   "source": []
  }
 ],
 "metadata": {
  "kernelspec": {
   "display_name": "Python 3 (ipykernel)",
   "language": "python",
   "name": "python3"
  },
  "language_info": {
   "codemirror_mode": {
    "name": "ipython",
    "version": 3
   },
   "file_extension": ".py",
   "mimetype": "text/x-python",
   "name": "python",
   "nbconvert_exporter": "python",
   "pygments_lexer": "ipython3",
   "version": "3.11.5"
  }
 },
 "nbformat": 4,
 "nbformat_minor": 5
}
