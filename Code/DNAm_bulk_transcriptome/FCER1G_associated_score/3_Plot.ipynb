{
 "cells": [
  {
   "cell_type": "code",
   "execution_count": 1,
   "id": "c911d924-23a9-47ac-b38b-538cc44988a5",
   "metadata": {
    "tags": []
   },
   "outputs": [],
   "source": [
    "import pandas as pd\n",
    "import numpy as np\n",
    "import seaborn as sns\n",
    "import matplotlib.pyplot as plt\n",
    "from scipy.stats import ranksums\n",
    "import statsmodels.api as sm\n",
    "from sklearn.linear_model import HuberRegressor\n"
   ]
  },
  {
   "cell_type": "code",
   "execution_count": 2,
   "id": "65c1a304-beaf-4304-a25e-45bb0495eddb",
   "metadata": {
    "tags": []
   },
   "outputs": [],
   "source": [
    "# Load the data\n",
    "output = pd.read_csv(\"/home/yang/PM_AD/Submission/Code/DNAm_bulk_transcriptome/FCER1G_associated_score/Figure3B_score.txt\", index_col=0)\n",
    "Pla_gene = pd.read_csv(\"/home/yang/PM_AD/8_IL1RL1_FCER1G/Placenta_gene_exp.txt\", index_col=0)"
   ]
  },
  {
   "cell_type": "markdown",
   "id": "a94d399a-fef3-4fb2-a241-427b71158dc7",
   "metadata": {
    "tags": []
   },
   "source": [
    "### Figure 3B"
   ]
  },
  {
   "cell_type": "code",
   "execution_count": 3,
   "id": "f721d5cb-2c6c-4013-881b-c05403756fca",
   "metadata": {
    "tags": []
   },
   "outputs": [
    {
     "name": "stderr",
     "output_type": "stream",
     "text": [
      "/tmp/ipykernel_4112477/2511714955.py:8: FutureWarning: \n",
      "\n",
      "Passing `palette` without assigning `hue` is deprecated and will be removed in v0.14.0. Assign the `x` variable to `hue` and set `legend=False` for the same effect.\n",
      "\n",
      "  sns.boxplot(x='Group', y=\"FCER1G_directed_genes\", data=output, palette=palette)\n"
     ]
    },
    {
     "data": {
      "image/png": "[encoded data removed]",
      "text/plain": [
       "<Figure size 640x480 with 1 Axes>"
      ]
     },
     "metadata": {},
     "output_type": "display_data"
    }
   ],
   "source": [
    "\n",
    "# Merge data to include only the 'Group' column and 'FCER1G_directed_genes'\n",
    "output = pd.merge(Pla_gene[['Group']], output.T, left_index=True, right_index=True, how='inner')\n",
    "\n",
    "# Define a custom palette for the 'Group' column\n",
    "palette = {group: 'red' if group == 'G4' else 'lightgray' for group in output['Group'].unique()}\n",
    "\n",
    "# Create boxplot and stripplot for visualization\n",
    "sns.boxplot(x='Group', y=\"FCER1G_directed_genes\", data=output, palette=palette)\n",
    "sns.stripplot(x='Group', y=\"FCER1G_directed_genes\", data=output, color='black', size=6, jitter=True)\n",
    "\n",
    "# Display the plot\n",
    "plt.show()\n",
    "\n",
    "# Save the plot if needed\n",
    "#plt.savefig('/home/yang/PM_AD/Submission/Figure_3/Figure3B/Figure_3B.pdf', dpi=300, bbox_inches='tight')\n"
   ]
  },
  {
   "cell_type": "code",
   "execution_count": 4,
   "id": "97b5ff0a-8e03-4856-8e01-b54421bc36c1",
   "metadata": {
    "tags": []
   },
   "outputs": [],
   "source": [
    "# Perform Wilcoxon rank-sum test between two groups\n",
    "def wilcox_ranksum_test(tmp1, Case, Control):\n",
    "    df = tmp1.copy()\n",
    "    \n",
    "    # Subset data for Case and Control\n",
    "    group_Case = df[df['Group'] == Case]\n",
    "    group_Control = df[df['Group'] == Control]\n",
    "    \n",
    "    p_values, t_values = [], []\n",
    "\n",
    "    # Perform Wilcoxon rank-sum test for each column\n",
    "    for column in group_Case.columns:\n",
    "        if column != 'Group':  # Exclude the 'Group' column\n",
    "            statistic, p_value = ranksums(group_Case[column], group_Control[column])\n",
    "            p_values.append(p_value)\n",
    "            t_values.append(statistic)\n",
    "    \n",
    "    # Return a DataFrame with p-values and t-values\n",
    "    return pd.DataFrame({\"P\": p_values, \"T\": t_values}, index=group_Case.columns)\n"
   ]
  },
  {
   "cell_type": "code",
   "execution_count": 5,
   "id": "052f2b95-6c1b-433a-8aee-246b5e244659",
   "metadata": {
    "tags": []
   },
   "outputs": [
    {
     "data": {
      "text/html": [
       "<div>\n",
       "<style scoped>\n",
       "    .dataframe tbody tr th:only-of-type {\n",
       "        vertical-align: middle;\n",
       "    }\n",
       "\n",
       "    .dataframe tbody tr th {\n",
       "        vertical-align: top;\n",
       "    }\n",
       "\n",
       "    .dataframe thead th {\n",
       "        text-align: right;\n",
       "    }\n",
       "</style>\n",
       "<table border=\"1\" class=\"dataframe\">\n",
       "  <thead>\n",
       "    <tr style=\"text-align: right;\">\n",
       "      <th></th>\n",
       "      <th>P</th>\n",
       "      <th>T</th>\n",
       "    </tr>\n",
       "  </thead>\n",
       "  <tbody>\n",
       "    <tr>\n",
       "      <th>Group</th>\n",
       "      <td>0.007912</td>\n",
       "      <td>2.655811</td>\n",
       "    </tr>\n",
       "    <tr>\n",
       "      <th>FCER1G_directed_genes</th>\n",
       "      <td>0.007912</td>\n",
       "      <td>2.655811</td>\n",
       "    </tr>\n",
       "  </tbody>\n",
       "</table>\n",
       "</div>"
      ],
      "text/plain": [
       "                              P         T\n",
       "Group                  0.007912  2.655811\n",
       "FCER1G_directed_genes  0.007912  2.655811"
      ]
     },
     "execution_count": 5,
     "metadata": {},
     "output_type": "execute_result"
    }
   ],
   "source": [
    "# Perform Wilcoxon rank-sum test for different comparisons\n",
    "wilcox_ranksum_test(output, 'G4', 'G3')"
   ]
  },
  {
   "cell_type": "code",
   "execution_count": 6,
   "id": "062eba85-fff2-4cea-a38d-087ba8fd1982",
   "metadata": {
    "tags": []
   },
   "outputs": [
    {
     "data": {
      "text/html": [
       "<div>\n",
       "<style scoped>\n",
       "    .dataframe tbody tr th:only-of-type {\n",
       "        vertical-align: middle;\n",
       "    }\n",
       "\n",
       "    .dataframe tbody tr th {\n",
       "        vertical-align: top;\n",
       "    }\n",
       "\n",
       "    .dataframe thead th {\n",
       "        text-align: right;\n",
       "    }\n",
       "</style>\n",
       "<table border=\"1\" class=\"dataframe\">\n",
       "  <thead>\n",
       "    <tr style=\"text-align: right;\">\n",
       "      <th></th>\n",
       "      <th>P</th>\n",
       "      <th>T</th>\n",
       "    </tr>\n",
       "  </thead>\n",
       "  <tbody>\n",
       "    <tr>\n",
       "      <th>Group</th>\n",
       "      <td>0.009375</td>\n",
       "      <td>2.598076</td>\n",
       "    </tr>\n",
       "    <tr>\n",
       "      <th>FCER1G_directed_genes</th>\n",
       "      <td>0.009375</td>\n",
       "      <td>2.598076</td>\n",
       "    </tr>\n",
       "  </tbody>\n",
       "</table>\n",
       "</div>"
      ],
      "text/plain": [
       "                              P         T\n",
       "Group                  0.009375  2.598076\n",
       "FCER1G_directed_genes  0.009375  2.598076"
      ]
     },
     "execution_count": 6,
     "metadata": {},
     "output_type": "execute_result"
    }
   ],
   "source": [
    "wilcox_ranksum_test(output, 'G4', 'G2')"
   ]
  },
  {
   "cell_type": "code",
   "execution_count": 7,
   "id": "1c8c16b5-4807-4385-9381-59595e850b0c",
   "metadata": {
    "tags": []
   },
   "outputs": [
    {
     "data": {
      "text/html": [
       "<div>\n",
       "<style scoped>\n",
       "    .dataframe tbody tr th:only-of-type {\n",
       "        vertical-align: middle;\n",
       "    }\n",
       "\n",
       "    .dataframe tbody tr th {\n",
       "        vertical-align: top;\n",
       "    }\n",
       "\n",
       "    .dataframe thead th {\n",
       "        text-align: right;\n",
       "    }\n",
       "</style>\n",
       "<table border=\"1\" class=\"dataframe\">\n",
       "  <thead>\n",
       "    <tr style=\"text-align: right;\">\n",
       "      <th></th>\n",
       "      <th>P</th>\n",
       "      <th>T</th>\n",
       "    </tr>\n",
       "  </thead>\n",
       "  <tbody>\n",
       "    <tr>\n",
       "      <th>Group</th>\n",
       "      <td>0.007912</td>\n",
       "      <td>2.655811</td>\n",
       "    </tr>\n",
       "    <tr>\n",
       "      <th>FCER1G_directed_genes</th>\n",
       "      <td>0.007912</td>\n",
       "      <td>2.655811</td>\n",
       "    </tr>\n",
       "  </tbody>\n",
       "</table>\n",
       "</div>"
      ],
      "text/plain": [
       "                              P         T\n",
       "Group                  0.007912  2.655811\n",
       "FCER1G_directed_genes  0.007912  2.655811"
      ]
     },
     "execution_count": 7,
     "metadata": {},
     "output_type": "execute_result"
    }
   ],
   "source": [
    "wilcox_ranksum_test(output, 'G4', 'G1')"
   ]
  },
  {
   "cell_type": "markdown",
   "id": "c7a4a4ba-77ea-4b3e-8917-84e67c22c608",
   "metadata": {
    "tags": []
   },
   "source": [
    "### Figure 3C - Linear Regression with Robust Methods"
   ]
  },
  {
   "cell_type": "code",
   "execution_count": 8,
   "id": "28e17204-49cc-4dd5-9278-708e7da7fc85",
   "metadata": {
    "tags": []
   },
   "outputs": [],
   "source": [
    "# Load the Clinical data\n",
    "Cov = pd.read_excel(\"/home/yang/PM_AD/1_Raw_data/Covariates_data.xlsx\", sheet_name=\"임상정보_\")\n",
    "Cov = Cov.loc[:, ['ID', 'C_cb_Eosiphil']].set_index(\"ID\")\n",
    "\n",
    "# Merge clinical data with the output data\n",
    "Clinic_cor = pd.merge(output, Cov, left_index=True, right_index=True, how='inner')\n"
   ]
  },
  {
   "cell_type": "code",
   "execution_count": 9,
   "id": "d16d0147-2165-4445-bee5-6c68ce5bf15b",
   "metadata": {
    "tags": []
   },
   "outputs": [
    {
     "name": "stdout",
     "output_type": "stream",
     "text": [
      "p-value: 0.04231232055125665\n",
      "                    Robust linear Model Regression Results                    \n",
      "==============================================================================\n",
      "Dep. Variable:          C_cb_Eosiphil   No. Observations:                   29\n",
      "Model:                            RLM   Df Residuals:                       27\n",
      "Method:                          IRLS   Df Model:                            1\n",
      "Norm:                          HuberT                                         \n",
      "Scale Est.:                       mad                                         \n",
      "Cov Type:                          H1                                         \n",
      "Date:                Mon, 03 Feb 2025                                         \n",
      "Time:                        15:23:16                                         \n",
      "No. Iterations:                    13                                         \n",
      "==============================================================================\n",
      "                 coef    std err          z      P>|z|      [0.025      0.975]\n",
      "------------------------------------------------------------------------------\n",
      "const          3.6983      0.384      9.620      0.000       2.945       4.452\n",
      "x1             2.7120      1.336      2.030      0.042       0.094       5.330\n",
      "==============================================================================\n",
      "\n",
      "If the model instance has been used for another fit with different fit parameters, then the fit options might not be the correct ones anymore .\n"
     ]
    },
    {
     "name": "stderr",
     "output_type": "stream",
     "text": [
      "/tmp/ipykernel_4112477/3591611249.py:15: FutureWarning: Series.__getitem__ treating keys as positions is deprecated. In a future version, integer keys will always be treated as labels (consistent with DataFrame behavior). To access a value by position, use `ser.iloc[pos]`\n",
      "  print(f\"p-value: {rlm_results.pvalues[1]}\")\n"
     ]
    }
   ],
   "source": [
    "# Extract the relevant columns for regression analysis\n",
    "x = Clinic_cor[\"FCER1G_directed_genes\"]\n",
    "y = Clinic_cor[\"C_cb_Eosiphil\"]\n",
    "\n",
    "# Remove NaN values for both variables\n",
    "valid_indices = np.isfinite(x) & np.isfinite(y)\n",
    "x = x[valid_indices].values.reshape(-1, 1)\n",
    "y = y[valid_indices]\n",
    "\n",
    "# Fit a robust linear model using Huber T norm\n",
    "rlm_model = sm.RLM(y, sm.add_constant(x), M=sm.robust.norms.HuberT())\n",
    "rlm_results = rlm_model.fit()\n",
    "\n",
    "# Display results of the regression model\n",
    "print(f\"p-value: {rlm_results.pvalues[1]}\")\n",
    "print(rlm_results.summary())\n"
   ]
  },
  {
   "cell_type": "code",
   "execution_count": 10,
   "id": "f54a66a0-2a93-49ab-ac79-5f8095078a85",
   "metadata": {
    "tags": []
   },
   "outputs": [
    {
     "data": {
      "image/png": "[encoded data removed]",
      "text/plain": [
       "<Figure size 800x600 with 1 Axes>"
      ]
     },
     "metadata": {},
     "output_type": "display_data"
    }
   ],
   "source": [
    "import numpy as np\n",
    "import matplotlib.pyplot as plt\n",
    "from sklearn.linear_model import HuberRegressor\n",
    "\n",
    "# Set matplotlib figure size and font type for saving as PDF\n",
    "plt.rcParams[\"figure.figsize\"] = (8, 6)  # Set figure size\n",
    "plt.rcParams['pdf.fonttype'] = 42  # Set font type to allow editing in PDF\n",
    "\n",
    "# Select the necessary columns from the Clinic_cor DataFrame\n",
    "x = Clinic_cor['FCER1G_directed_genes']\n",
    "y = Clinic_cor['C_cb_Eosiphil']\n",
    "groups = Clinic_cor['Group']  # Extract the 'Group' column\n",
    "\n",
    "# Remove NaN values from x, y, and groups\n",
    "valid_indices = np.isfinite(x) & np.isfinite(y)\n",
    "x = x[valid_indices].values.reshape(-1, 1)\n",
    "y = y[valid_indices]\n",
    "groups = groups[valid_indices]\n",
    "\n",
    "# Create HuberRegressor model and fit it\n",
    "model = HuberRegressor()\n",
    "model.fit(x, y)\n",
    "\n",
    "# Define group labels and assign colors for each group\n",
    "group_labels = groups.unique()\n",
    "colors = ['grey', 'grey', 'grey', 'red']  # Color mapping for groups (default grey, G4 in red)\n",
    "\n",
    "# Scatter plot for each group\n",
    "for i, group_label in enumerate(group_labels):\n",
    "    group_x = x[groups == group_label]\n",
    "    group_y = y[groups == group_label]\n",
    "    plt.scatter(group_x, group_y, color=colors[i], label=group_label)\n",
    "\n",
    "# Plot the regression line\n",
    "plt.plot(x, model.predict(x), color='black', linewidth=2, label='Regression Line')\n",
    "\n",
    "# Add title and legend to the plot\n",
    "plt.title('Huber Regression')\n",
    "plt.legend()\n",
    "\n",
    "# Display the plot\n",
    "plt.show()\n"
   ]
  },
  {
   "cell_type": "code",
   "execution_count": null,
   "id": "6ca86d53-f002-49ab-8f80-69162f4eee7e",
   "metadata": {},
   "outputs": [],
   "source": []
  },
  {
   "cell_type": "code",
   "execution_count": null,
   "id": "00325abc-99e5-4968-ace7-4de6dd8d9e04",
   "metadata": {},
   "outputs": [],
   "source": []
  },
  {
   "cell_type": "code",
   "execution_count": null,
   "id": "30bbe10e-b099-4633-a8c6-1077e7d33f03",
   "metadata": {},
   "outputs": [],
   "source": []
  },
  {
   "cell_type": "code",
   "execution_count": null,
   "id": "8e1c6054-d8a3-403b-b88b-c49060f779a1",
   "metadata": {},
   "outputs": [],
   "source": []
  },
  {
   "cell_type": "code",
   "execution_count": null,
   "id": "2c48dd29-9fce-4879-8d38-4f3683e89126",
   "metadata": {},
   "outputs": [],
   "source": []
  },
  {
   "cell_type": "code",
   "execution_count": null,
   "id": "81193e3c-82f1-44db-a1bb-8727e96f0cd3",
   "metadata": {},
   "outputs": [],
   "source": []
  }
 ],
 "metadata": {
  "kernelspec": {
   "display_name": "Python 3 (ipykernel)",
   "language": "python",
   "name": "python3"
  },
  "language_info": {
   "codemirror_mode": {
    "name": "ipython",
    "version": 3
   },
   "file_extension": ".py",
   "mimetype": "text/x-python",
   "name": "python",
   "nbconvert_exporter": "python",
   "pygments_lexer": "ipython3",
   "version": "3.11.5"
  }
 },
 "nbformat": 4,
 "nbformat_minor": 5
}
