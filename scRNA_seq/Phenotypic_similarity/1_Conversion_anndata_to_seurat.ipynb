{
 "cells": [
  {
   "cell_type": "code",
   "execution_count": 1,
   "id": "35c04fec-79ab-49f2-9de7-7a60f25723db",
   "metadata": {
    "tags": []
   },
   "outputs": [],
   "source": [
    "import numpy as np\n",
    "import pandas as pd\n",
    "import scanpy as sc\n",
    "import sys\n",
    "from statsmodels import robust\n",
    "import sys\n",
    "from scipy import sparse, io\n",
    "import matplotlib.pyplot as plt\n",
    "import os.path\n",
    "import scipy as sci\n",
    "import anndata\n",
    "\n",
    "def anndata_to_seurat(adata, Cell_names):\n",
    "    os.chdir('/scRNA-seq/placen_skin/For_RDS/')\n",
    "    genes = adata.var.copy()\n",
    "    genes['gene_short_name'] = genes.index\n",
    "    genes[['gene_short_name']].to_csv(f'{Cell_names}_genes.csv', header=True)\n",
    "\n",
    "    a = adata.obs.index\n",
    "    a = pd.DataFrame(a)\n",
    "    a.to_csv(f'{Cell_names}_cell_names.csv')\n",
    "\n",
    "    c_sparse = adata.X.transpose()\n",
    "    c_sparse = c_sparse.astype(int)\n",
    "\n",
    "    io.mmwrite(f'{Cell_names}_counts.mtx', c_sparse)\n",
    "\n",
    "    metadata = adata.obs\n",
    "    metadata.to_csv(f'{Cell_names}_metadata.csv')"
   ]
  },
  {
   "cell_type": "code",
   "execution_count": null,
   "id": "c0a33143-fcfa-4dea-9777-5e467e86c71a",
   "metadata": {},
   "outputs": [],
   "source": []
  },
  {
   "cell_type": "code",
   "execution_count": null,
   "id": "e04a20be-1659-45ee-a9e0-eeec9efc18b5",
   "metadata": {},
   "outputs": [],
   "source": []
  },
  {
   "cell_type": "code",
   "execution_count": null,
   "id": "ac4e02ed-b3c8-45a8-877f-2f2451a50891",
   "metadata": {},
   "outputs": [],
   "source": []
  }
 ],
 "metadata": {
  "kernelspec": {
   "display_name": "Python 3 (ipykernel)",
   "language": "python",
   "name": "python3"
  },
  "language_info": {
   "codemirror_mode": {
    "name": "ipython",
    "version": 3
   },
   "file_extension": ".py",
   "mimetype": "text/x-python",
   "name": "python",
   "nbconvert_exporter": "python",
   "pygments_lexer": "ipython3",
   "version": "3.11.5"
  }
 },
 "nbformat": 4,
 "nbformat_minor": 5
}
